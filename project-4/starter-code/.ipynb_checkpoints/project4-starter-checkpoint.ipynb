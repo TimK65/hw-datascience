{
 "cells": [
  {
   "cell_type": "markdown",
   "metadata": {},
   "source": [
    "# Project 4\n",
    "\n",
    "In this project, you will summarize and present your analysis from Projects 1-3."
   ]
  },
  {
   "cell_type": "markdown",
   "metadata": {},
   "source": [
    "### Intro: Write a problem Statement/ Specific Aim for this project"
   ]
  },
  {
   "cell_type": "markdown",
   "metadata": {},
   "source": [
    "Answer: Use one or more of three predictors (GPA, GRE score, and prestige of the applicant's undergraduate school) to predict the likelihood that applicants will be admitted to graduate school."
   ]
  },
  {
   "cell_type": "markdown",
   "metadata": {},
   "source": [
    "### Dataset:  Write up a description of your data and any cleaning that was completed"
   ]
  },
  {
   "cell_type": "markdown",
   "metadata": {},
   "source": [
    "Answer: Each row represents one applicant. The predictors are *gpa*, *gre*, and *prestige*. The outcome is *admit*.\n",
    "\n",
    "The values of *gpa* and *gre* are self-explanatory. *Prestige* ranges from 1 to 4, where 1 is best. *Admit* is 0 (not admitted) or 1 (admitted).\n",
    "\n",
    "Rows containing any missing values have been excluded from the data analyzed. Dummy variables were created for *prestige*."
   ]
  },
  {
   "cell_type": "markdown",
   "metadata": {
    "collapsed": true
   },
   "source": [
    "### Demo: Provide a table that explains the data by admission status"
   ]
  },
  {
   "cell_type": "code",
   "execution_count": 1,
   "metadata": {
    "collapsed": false
   },
   "outputs": [
    {
     "name": "stdout",
     "output_type": "stream",
     "text": [
      "   admit    gre   gpa  prestige\n",
      "0      0  380.0  3.61       3.0\n",
      "1      1  660.0  3.67       3.0\n",
      "2      1  800.0  4.00       1.0\n",
      "3      1  640.0  3.19       4.0\n",
      "4      0  520.0  2.93       4.0\n"
     ]
    }
   ],
   "source": [
    "#imports\n",
    "from __future__ import division\n",
    "import pandas as pd\n",
    "import numpy as np\n",
    "import matplotlib.pyplot as plt\n",
    "import statsmodels.api as sm\n",
    "import pylab as pl\n",
    "import numpy as np\n",
    "%matplotlib inline\n",
    "\n",
    "#Read in data from source \n",
    "df_raw = pd.read_csv(\"../assets/admissions.csv\")\n",
    "print(df_raw.head())\n",
    "\n",
    "#Drop rows with missing values for any column\n",
    "df_raw.dropna(axis=0, how='any', inplace=True)\n",
    "\n",
    "df_dummies = pd.get_dummies(data=df_raw, prefix=\"prestige\", columns=[\"prestige\"])"
   ]
  },
  {
   "cell_type": "code",
   "execution_count": 2,
   "metadata": {
    "collapsed": false
   },
   "outputs": [
    {
     "name": "stdout",
     "output_type": "stream",
     "text": [
      "       count      mean       std   min   25%    50%     75%  max\n",
      "admit                                                           \n",
      "0      271.0  3.347159  0.376355  2.26  3.08  3.340  3.6100  4.0\n",
      "1      126.0  3.489206  0.371655  2.42  3.22  3.545  3.7575  4.0\n",
      "       count        mean         std    min    25%    50%    75%    max\n",
      "admit                                                                  \n",
      "0      271.0  573.579336  116.052798  220.0  500.0  580.0  660.0  800.0\n",
      "1      126.0  618.571429  109.257233  300.0  540.0  620.0  680.0  800.0\n",
      "prestige_1.0   1  All\n",
      "admit                \n",
      "0             28   28\n",
      "1             33   33\n",
      "All           61   61\n",
      "prestige_1.0         1       All\n",
      "admit                           \n",
      "0             0.459016  0.459016\n",
      "1             0.540984  0.540984\n",
      "prestige_2.0    1  All\n",
      "admit                 \n",
      "0              95   95\n",
      "1              53   53\n",
      "All           148  148\n",
      "prestige_2.0         1       All\n",
      "admit                           \n",
      "0             0.641892  0.641892\n",
      "1             0.358108  0.358108\n",
      "prestige_3.0    1  All\n",
      "admit                 \n",
      "0              93   93\n",
      "1              28   28\n",
      "All           121  121\n",
      "prestige_3.0         1       All\n",
      "admit                           \n",
      "0             0.768595  0.768595\n",
      "1             0.231405  0.231405\n",
      "prestige_4.0   1  All\n",
      "admit                \n",
      "0             55   55\n",
      "1             12   12\n",
      "All           67   67\n",
      "prestige_4.0         1       All\n",
      "admit                           \n",
      "0             0.820896  0.820896\n",
      "1             0.179104  0.179104\n"
     ]
    }
   ],
   "source": [
    "grouped_data = df_dummies.groupby(['admit'])\n",
    "\n",
    "print(grouped_data['gpa'].describe().unstack())\n",
    "print(grouped_data['gre'].describe().unstack())\n",
    "\n",
    "p1 = df_dummies.loc[df_dummies['prestige_1.0'] == 1]\n",
    "print(pd.crosstab(p1.admit, p1['prestige_1.0'], margins=True))\n",
    "print(pd.crosstab(p1.admit, p1['prestige_1.0'], margins=True, normalize='columns'))\n",
    "\n",
    "p2 = df_dummies.loc[df_dummies['prestige_2.0'] == 1]\n",
    "print(pd.crosstab(p2.admit, p2['prestige_2.0'], margins=True))\n",
    "print(pd.crosstab(p2.admit, p2['prestige_2.0'], margins=True, normalize='columns'))\n",
    "\n",
    "p3 = df_dummies.loc[df_dummies['prestige_3.0'] == 1]\n",
    "print(pd.crosstab(p3.admit, p3['prestige_3.0'], margins=True))\n",
    "print(pd.crosstab(p3.admit, p3['prestige_3.0'], margins=True, normalize='columns'))\n",
    "\n",
    "p4 = df_dummies.loc[df_dummies['prestige_4.0'] == 1]\n",
    "print(pd.crosstab(p4.admit, p4['prestige_4.0'], margins=True))\n",
    "print(pd.crosstab(p4.admit, p4['prestige_4.0'], margins=True, normalize='columns'))\n"
   ]
  },
  {
   "cell_type": "markdown",
   "metadata": {},
   "source": [
    "Mean (STD) or counts by admission status for each variable \n",
    "\n",
    "| Not Admitted | Admitted\n",
    "---| ---|---\n",
    "GPA | 3.347159 (0.376355)  | 3.489206 (0.371655)\n",
    "GRE |573.579336 (116.052798) | 618.571429 (109.257233)\n",
    "Prestige 1 | 28 (45.9%) | 33 (54.1%)\n",
    "Prestige 2 | 95 (64.2%) | 53 (35.8%)\n",
    "Prestige 3 |93 (76.9%) | 28 (23.1%)\n",
    "Prestige 4 |55 (82.1%) | 12 (17.9%)"
   ]
  },
  {
   "cell_type": "markdown",
   "metadata": {},
   "source": [
    "### Methods: Write up the methods used in your analysis"
   ]
  },
  {
   "cell_type": "markdown",
   "metadata": {},
   "source": [
    "Answer: After preparing the data as described and shown above, I fitted a logistic regression model (logit) to the data using Python Pandas. This enables us to see the effects of the various predictors on the outcome, and how confident we can be that each of the predictors actually affects the outcome."
   ]
  },
  {
   "cell_type": "markdown",
   "metadata": {},
   "source": [
    "### Results: Write up your results"
   ]
  },
  {
   "cell_type": "code",
   "execution_count": 3,
   "metadata": {
    "collapsed": false
   },
   "outputs": [
    {
     "data": {
      "text/html": [
       "<div>\n",
       "<table border=\"1\" class=\"dataframe\">\n",
       "  <thead>\n",
       "    <tr style=\"text-align: right;\">\n",
       "      <th></th>\n",
       "      <th>admit</th>\n",
       "      <th>gre</th>\n",
       "      <th>gpa</th>\n",
       "      <th>prestige_1.0</th>\n",
       "      <th>prestige_2.0</th>\n",
       "      <th>prestige_3.0</th>\n",
       "      <th>prestige_4.0</th>\n",
       "    </tr>\n",
       "  </thead>\n",
       "  <tbody>\n",
       "    <tr>\n",
       "      <th>count</th>\n",
       "      <td>397.000000</td>\n",
       "      <td>397.000000</td>\n",
       "      <td>397.000000</td>\n",
       "      <td>397.000000</td>\n",
       "      <td>397.000000</td>\n",
       "      <td>397.000000</td>\n",
       "      <td>397.000000</td>\n",
       "    </tr>\n",
       "    <tr>\n",
       "      <th>mean</th>\n",
       "      <td>0.317380</td>\n",
       "      <td>587.858942</td>\n",
       "      <td>3.392242</td>\n",
       "      <td>0.153652</td>\n",
       "      <td>0.372796</td>\n",
       "      <td>0.304786</td>\n",
       "      <td>0.168766</td>\n",
       "    </tr>\n",
       "    <tr>\n",
       "      <th>std</th>\n",
       "      <td>0.466044</td>\n",
       "      <td>115.717787</td>\n",
       "      <td>0.380208</td>\n",
       "      <td>0.361070</td>\n",
       "      <td>0.484159</td>\n",
       "      <td>0.460898</td>\n",
       "      <td>0.375017</td>\n",
       "    </tr>\n",
       "    <tr>\n",
       "      <th>min</th>\n",
       "      <td>0.000000</td>\n",
       "      <td>220.000000</td>\n",
       "      <td>2.260000</td>\n",
       "      <td>0.000000</td>\n",
       "      <td>0.000000</td>\n",
       "      <td>0.000000</td>\n",
       "      <td>0.000000</td>\n",
       "    </tr>\n",
       "    <tr>\n",
       "      <th>25%</th>\n",
       "      <td>0.000000</td>\n",
       "      <td>520.000000</td>\n",
       "      <td>3.130000</td>\n",
       "      <td>0.000000</td>\n",
       "      <td>0.000000</td>\n",
       "      <td>0.000000</td>\n",
       "      <td>0.000000</td>\n",
       "    </tr>\n",
       "    <tr>\n",
       "      <th>50%</th>\n",
       "      <td>0.000000</td>\n",
       "      <td>580.000000</td>\n",
       "      <td>3.400000</td>\n",
       "      <td>0.000000</td>\n",
       "      <td>0.000000</td>\n",
       "      <td>0.000000</td>\n",
       "      <td>0.000000</td>\n",
       "    </tr>\n",
       "    <tr>\n",
       "      <th>75%</th>\n",
       "      <td>1.000000</td>\n",
       "      <td>660.000000</td>\n",
       "      <td>3.670000</td>\n",
       "      <td>0.000000</td>\n",
       "      <td>1.000000</td>\n",
       "      <td>1.000000</td>\n",
       "      <td>0.000000</td>\n",
       "    </tr>\n",
       "    <tr>\n",
       "      <th>max</th>\n",
       "      <td>1.000000</td>\n",
       "      <td>800.000000</td>\n",
       "      <td>4.000000</td>\n",
       "      <td>1.000000</td>\n",
       "      <td>1.000000</td>\n",
       "      <td>1.000000</td>\n",
       "      <td>1.000000</td>\n",
       "    </tr>\n",
       "  </tbody>\n",
       "</table>\n",
       "</div>"
      ],
      "text/plain": [
       "            admit         gre         gpa  prestige_1.0  prestige_2.0  \\\n",
       "count  397.000000  397.000000  397.000000    397.000000    397.000000   \n",
       "mean     0.317380  587.858942    3.392242      0.153652      0.372796   \n",
       "std      0.466044  115.717787    0.380208      0.361070      0.484159   \n",
       "min      0.000000  220.000000    2.260000      0.000000      0.000000   \n",
       "25%      0.000000  520.000000    3.130000      0.000000      0.000000   \n",
       "50%      0.000000  580.000000    3.400000      0.000000      0.000000   \n",
       "75%      1.000000  660.000000    3.670000      0.000000      1.000000   \n",
       "max      1.000000  800.000000    4.000000      1.000000      1.000000   \n",
       "\n",
       "       prestige_3.0  prestige_4.0  \n",
       "count    397.000000    397.000000  \n",
       "mean       0.304786      0.168766  \n",
       "std        0.460898      0.375017  \n",
       "min        0.000000      0.000000  \n",
       "25%        0.000000      0.000000  \n",
       "50%        0.000000      0.000000  \n",
       "75%        1.000000      0.000000  \n",
       "max        1.000000      1.000000  "
      ]
     },
     "execution_count": 3,
     "metadata": {},
     "output_type": "execute_result"
    }
   ],
   "source": [
    "df_dummies.describe()"
   ]
  },
  {
   "cell_type": "markdown",
   "metadata": {},
   "source": [
    "Answer:\n",
    "\n",
    "Prestige appears to have the strongest association with admission. The p-values for the prestige dummy variables are low. This correlation is inverse because higher actual prestige is expressed in the data with lower numeric values (1=highest prestige, 4=lowest prestige).\n",
    "\n",
    "GPA appears to have a somewhat weaker association with admission. For each unit increase in GPA, the odds of admission increase by a factor of about 2. (GPA ranges from 2.26 to 4.00, so a unit increase is relatively large.)\n",
    "\n",
    "GRE appears to be most weakly associated with admission. For each unit increase in GRE score, the odds of admission increase by a factor of slightly over 1.00. (GRE scores range from 220 to 800, so a unit increase in GRE score is relatively small.)"
   ]
  },
  {
   "cell_type": "markdown",
   "metadata": {},
   "source": [
    "### Visuals: Provide a table or visualization of these results"
   ]
  },
  {
   "cell_type": "code",
   "execution_count": 3,
   "metadata": {
    "collapsed": true
   },
   "outputs": [],
   "source": [
    "import seaborn as sns"
   ]
  },
  {
   "cell_type": "code",
   "execution_count": 4,
   "metadata": {
    "collapsed": false
   },
   "outputs": [
    {
     "data": {
      "text/plain": [
       "<matplotlib.axes._subplots.AxesSubplot at 0x177189bbfd0>"
      ]
     },
     "execution_count": 4,
     "metadata": {},
     "output_type": "execute_result"
    },
    {
     "data": {
      "image/png": "[encoded data removed]",
      "text/plain": [
       "<matplotlib.figure.Figure at 0x177189bb780>"
      ]
     },
     "metadata": {},
     "output_type": "display_data"
    }
   ],
   "source": [
    "sns.regplot(df_raw.prestige, df_raw.admit)"
   ]
  },
  {
   "cell_type": "code",
   "execution_count": 8,
   "metadata": {
    "collapsed": false
   },
   "outputs": [
    {
     "data": {
      "text/plain": [
       "<matplotlib.axes._subplots.AxesSubplot at 0x17718ff45c0>"
      ]
     },
     "execution_count": 8,
     "metadata": {},
     "output_type": "execute_result"
    },
    {
     "data": {
      "image/png": "[encoded data removed]",
      "text/plain": [
       "<matplotlib.figure.Figure at 0x17719014438>"
      ]
     },
     "metadata": {},
     "output_type": "display_data"
    }
   ],
   "source": [
    "sns.regplot(df_raw.gre, df_raw.admit)"
   ]
  },
  {
   "cell_type": "code",
   "execution_count": 7,
   "metadata": {
    "collapsed": false
   },
   "outputs": [
    {
     "data": {
      "text/plain": [
       "<matplotlib.axes._subplots.AxesSubplot at 0x17718eef390>"
      ]
     },
     "execution_count": 7,
     "metadata": {},
     "output_type": "execute_result"
    },
    {
     "data": {
      "image/png": "[encoded data removed]",
      "text/plain": [
       "<matplotlib.figure.Figure at 0x17718f52278>"
      ]
     },
     "metadata": {},
     "output_type": "display_data"
    }
   ],
   "source": [
    "sns.regplot(df_raw.gpa, df_raw.admit)"
   ]
  },
  {
   "cell_type": "markdown",
   "metadata": {},
   "source": [
    "### Discussion: Write up your discussion and future steps"
   ]
  },
  {
   "cell_type": "markdown",
   "metadata": {},
   "source": [
    "Given these findings, it would be interesting to consider whether there are other factors that might influence admission more strongly, and whether these could be examined (they might not be captured as data). Particularly, the associations for GRE and GPA are not strong, so I wonder whether there are factors other than prestige that correlate strongly with admission."
   ]
  },
  {
   "cell_type": "code",
   "execution_count": null,
   "metadata": {
    "collapsed": true
   },
   "outputs": [],
   "source": []
  }
 ],
 "metadata": {
  "kernelspec": {
   "display_name": "Python 3",
   "language": "python",
   "name": "python3"
  },
  "language_info": {
   "codemirror_mode": {
    "name": "ipython",
    "version": 3
   },
   "file_extension": ".py",
   "mimetype": "text/x-python",
   "name": "python",
   "nbconvert_exporter": "python",
   "pygments_lexer": "ipython3",
   "version": "3.6.0"
  }
 },
 "nbformat": 4,
 "nbformat_minor": 0
}
