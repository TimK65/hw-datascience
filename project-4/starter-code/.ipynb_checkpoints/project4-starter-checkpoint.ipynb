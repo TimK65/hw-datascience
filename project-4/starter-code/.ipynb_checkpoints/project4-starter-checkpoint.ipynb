{
 "cells": [
  {
   "cell_type": "markdown",
   "metadata": {},
   "source": [
    "# Project 4\n",
    "\n",
    "In this project, you will summarize and present your analysis from Projects 1-3."
   ]
  },
  {
   "cell_type": "markdown",
   "metadata": {},
   "source": [
    "### Intro: Write a problem Statement/ Specific Aim for this project"
   ]
  },
  {
   "cell_type": "markdown",
   "metadata": {},
   "source": [
    "Answer: Use one or more of three predictors (GPA, GRE score, and prestige of the applicant's undergraduate school) to predict the likelihood that applicants will be admitted to graduate school."
   ]
  },
  {
   "cell_type": "markdown",
   "metadata": {},
   "source": [
    "### Dataset:  Write up a description of your data and any cleaning that was completed"
   ]
  },
  {
   "cell_type": "markdown",
   "metadata": {},
   "source": [
    "Answer: Each row represents one applicant. The predictors are *gpa*, *gre*, and *prestige*. The outcome is *admit*.\n",
    "\n",
    "The values of *gpa* and *gre* are self-explanatory. *Prestige* ranges from 1 to 4, where 1 is best. *Admit* is 0 (not admitted) or 1 (admitted).\n",
    "\n",
    "Rows containing any missing values have been excluded from the data analyzed. Dummy variables were created for *prestige*."
   ]
  },
  {
   "cell_type": "markdown",
   "metadata": {
    "collapsed": true
   },
   "source": [
    "### Demo: Provide a table that explains the data by admission status"
   ]
  },
  {
   "cell_type": "code",
   "execution_count": 5,
   "metadata": {
    "collapsed": false
   },
   "outputs": [
    {
     "name": "stdout",
     "output_type": "stream",
     "text": [
      "   admit    gre   gpa  prestige\n",
      "0      0  380.0  3.61       3.0\n",
      "1      1  660.0  3.67       3.0\n",
      "2      1  800.0  4.00       1.0\n",
      "3      1  640.0  3.19       4.0\n",
      "4      0  520.0  2.93       4.0\n"
     ]
    }
   ],
   "source": [
    "#imports\n",
    "from __future__ import division\n",
    "import pandas as pd\n",
    "import numpy as np\n",
    "import matplotlib.pyplot as plt\n",
    "import statsmodels.api as sm\n",
    "import pylab as pl\n",
    "import numpy as np\n",
    "%matplotlib inline\n",
    "\n",
    "#Read in data from source \n",
    "df_raw = pd.read_csv(\"../assets/admissions.csv\")\n",
    "print(df_raw.head())\n",
    "\n",
    "#Drop rows with missing values for any column\n",
    "df_raw.dropna(axis=0, how='any', inplace=True)\n",
    "\n",
    "df_dummies = pd.get_dummies(data=df_raw, prefix=\"prestige\", columns=[\"prestige\"])"
   ]
  },
  {
   "cell_type": "code",
   "execution_count": 31,
   "metadata": {
    "collapsed": false
   },
   "outputs": [
    {
     "name": "stdout",
     "output_type": "stream",
     "text": [
      "       count      mean       std   min   25%    50%     75%  max\n",
      "admit                                                           \n",
      "0      271.0  3.347159  0.376355  2.26  3.08  3.340  3.6100  4.0\n",
      "1      126.0  3.489206  0.371655  2.42  3.22  3.545  3.7575  4.0\n",
      "       count        mean         std    min    25%    50%    75%    max\n",
      "admit                                                                  \n",
      "0      271.0  573.579336  116.052798  220.0  500.0  580.0  660.0  800.0\n",
      "1      126.0  618.571429  109.257233  300.0  540.0  620.0  680.0  800.0\n",
      "prestige_1.0   1  All\n",
      "admit                \n",
      "0             28   28\n",
      "1             33   33\n",
      "All           61   61\n",
      "prestige_1.0         1       All\n",
      "admit                           \n",
      "0             0.459016  0.459016\n",
      "1             0.540984  0.540984\n",
      "prestige_2.0    1  All\n",
      "admit                 \n",
      "0              95   95\n",
      "1              53   53\n",
      "All           148  148\n",
      "prestige_2.0         1       All\n",
      "admit                           \n",
      "0             0.641892  0.641892\n",
      "1             0.358108  0.358108\n",
      "prestige_3.0    1  All\n",
      "admit                 \n",
      "0              93   93\n",
      "1              28   28\n",
      "All           121  121\n",
      "prestige_3.0         1       All\n",
      "admit                           \n",
      "0             0.768595  0.768595\n",
      "1             0.231405  0.231405\n",
      "prestige_4.0   1  All\n",
      "admit                \n",
      "0             55   55\n",
      "1             12   12\n",
      "All           67   67\n",
      "prestige_4.0         1       All\n",
      "admit                           \n",
      "0             0.820896  0.820896\n",
      "1             0.179104  0.179104\n"
     ]
    }
   ],
   "source": [
    "grouped_data = df_dummies.groupby(['admit'])\n",
    "\n",
    "print(grouped_data['gpa'].describe().unstack())\n",
    "print(grouped_data['gre'].describe().unstack())\n",
    "\n",
    "p1 = df_dummies.loc[df_dummies['prestige_1.0'] == 1]\n",
    "print(pd.crosstab(p1.admit, p1['prestige_1.0'], margins=True))\n",
    "print(pd.crosstab(p1.admit, p1['prestige_1.0'], margins=True, normalize='columns'))\n",
    "\n",
    "p2 = df_dummies.loc[df_dummies['prestige_2.0'] == 1]\n",
    "print(pd.crosstab(p2.admit, p2['prestige_2.0'], margins=True))\n",
    "print(pd.crosstab(p2.admit, p2['prestige_2.0'], margins=True, normalize='columns'))\n",
    "\n",
    "p3 = df_dummies.loc[df_dummies['prestige_3.0'] == 1]\n",
    "print(pd.crosstab(p3.admit, p3['prestige_3.0'], margins=True))\n",
    "print(pd.crosstab(p3.admit, p3['prestige_3.0'], margins=True, normalize='columns'))\n",
    "\n",
    "p4 = df_dummies.loc[df_dummies['prestige_4.0'] == 1]\n",
    "print(pd.crosstab(p4.admit, p4['prestige_4.0'], margins=True))\n",
    "print(pd.crosstab(p4.admit, p4['prestige_4.0'], margins=True, normalize='columns'))\n"
   ]
  },
  {
   "cell_type": "markdown",
   "metadata": {},
   "source": [
    "Mean (STD) or counts by admission status for each variable \n",
    "\n",
    "| Not Admitted | Admitted\n",
    "---| ---|---\n",
    "GPA | 3.347159 (0.376355)  | 3.489206 (0.371655)\n",
    "GRE |573.579336 (116.052798) | 618.571429 (109.257233)\n",
    "Prestige 1 | 28 (45.9%) | 33 (54.1%)\n",
    "Prestige 2 | 95 (64.2%) | 53 (35.8%)\n",
    "Prestige 3 |93 (76.9%) | 28 (23.1%)\n",
    "Prestige 4 |55 (82.1%) | 12 (17.9%)"
   ]
  },
  {
   "cell_type": "markdown",
   "metadata": {},
   "source": [
    "### Methods: Write up the methods used in your analysis"
   ]
  },
  {
   "cell_type": "markdown",
   "metadata": {},
   "source": [
    "Answer:"
   ]
  },
  {
   "cell_type": "markdown",
   "metadata": {},
   "source": [
    "### Results: Write up your results"
   ]
  },
  {
   "cell_type": "markdown",
   "metadata": {},
   "source": [
    "Answer:"
   ]
  },
  {
   "cell_type": "markdown",
   "metadata": {},
   "source": [
    "### Visuals: Provide a table or visualization of these results"
   ]
  },
  {
   "cell_type": "markdown",
   "metadata": {},
   "source": [
    "<img src='placeholder.png' height= 25% width= 25%>"
   ]
  },
  {
   "cell_type": "markdown",
   "metadata": {},
   "source": [
    "<img src='placeholder.png' height= 25% width= 25%>"
   ]
  },
  {
   "cell_type": "markdown",
   "metadata": {},
   "source": [
    "### Discussion: Write up your discussion and future steps"
   ]
  },
  {
   "cell_type": "markdown",
   "metadata": {},
   "source": [
    "Answer: "
   ]
  }
 ],
 "metadata": {
  "kernelspec": {
   "display_name": "Python 3",
   "language": "python",
   "name": "python3"
  },
  "language_info": {
   "codemirror_mode": {
    "name": "ipython",
    "version": 3
   },
   "file_extension": ".py",
   "mimetype": "text/x-python",
   "name": "python",
   "nbconvert_exporter": "python",
   "pygments_lexer": "ipython3",
   "version": "3.6.0"
  }
 },
 "nbformat": 4,
 "nbformat_minor": 0
}
