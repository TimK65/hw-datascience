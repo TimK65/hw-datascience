{
 "cells": [
  {
   "cell_type": "code",
   "execution_count": 1,
   "metadata": {
    "collapsed": true
   },
   "outputs": [],
   "source": [
    "import pandas as pd\n",
    "import numpy as np\n",
    "from pandas.io import sql\n",
    "import sqlite3"
   ]
  },
  {
   "cell_type": "code",
   "execution_count": 2,
   "metadata": {
    "collapsed": true
   },
   "outputs": [],
   "source": [
    "conn = sqlite3.connect('../../assets/imdb.db')"
   ]
  },
  {
   "cell_type": "code",
   "execution_count": 7,
   "metadata": {},
   "outputs": [
    {
     "name": "stdout",
     "output_type": "stream",
     "text": [
      "                                    Title  Year\n",
      "# (2012/I)          NaN NaN NaN NaN   NaN  2012\n",
      "# (2012/II)         NaN NaN NaN NaN   NaN  2012\n",
      "# (2014)            NaN NaN NaN NaN   NaN  2014\n",
      "# My Ass (2015) (V) NaN NaN NaN NaN  2015   NaN\n",
      "#1 (2005)           NaN NaN NaN NaN   NaN  2005\n",
      "<class 'pandas.core.frame.DataFrame'>\n",
      "MultiIndex: 1348913 entries, (# (2012/I), nan, nan, nan, nan) to (--------------------------------------------------------------------------------, nan, nan, nan, nan)\n",
      "Data columns (total 2 columns):\n",
      "Title    482873 non-null object\n",
      "Year     145040 non-null object\n",
      "dtypes: object(2)\n",
      "memory usage: 46.3+ MB\n",
      "None\n"
     ]
    }
   ],
   "source": [
    "# Read in film data -- includes title and year\n",
    "\n",
    "film_data = pd.read_csv(\"../../assets/movies.list\", sep='\\t', names=['Title', 'Year'],\n",
    "                        skiprows=15, encoding=\"cp1252\", comment='\"')\n",
    "print(film_data.head())\n",
    "print(film_data.info())"
   ]
  },
  {
   "cell_type": "code",
   "execution_count": null,
   "metadata": {
    "collapsed": true
   },
   "outputs": [],
   "source": []
  }
 ],
 "metadata": {
  "kernelspec": {
   "display_name": "Python 3",
   "language": "python",
   "name": "python3"
  },
  "language_info": {
   "codemirror_mode": {
    "name": "ipython",
    "version": 3
   },
   "file_extension": ".py",
   "mimetype": "text/x-python",
   "name": "python",
   "nbconvert_exporter": "python",
   "pygments_lexer": "ipython3",
   "version": "3.6.0"
  }
 },
 "nbformat": 4,
 "nbformat_minor": 2
}
