{
 "cells": [
  {
   "cell_type": "markdown",
   "metadata": {},
   "source": [
    "# Final Project 2: Experiment Writeup"
   ]
  },
  {
   "cell_type": "markdown",
   "metadata": {},
   "source": [
    "### Project problem and hypothesis\n",
    "\n",
    "* The objective of this project is to examine the factors that are associated with transfer trips on the Washington Metro.\n",
    "* The outcome variable for this project (transfer/not-transfer) is binary. Some of the potential predictors, such as trip length, are continuous variables; others, such as time of day, are categorical.\n",
    "* While the Metro is already in place, and the factors associated with transfer trips are difficult to influence, this type of research could influence the design of new transit networks.\n",
    "* I expect that passengers will be more willing to transfer during work trips, which make up the bulk of trips during peak hours. Trip length could affect transfer behavior in two ways: passengers may be more willing to transfer on a short trip, because adding the transfer time and penalty to the trip still makes for an acceptably short trip, or they may be more willing to transfer on a long trip, because the transfer time and penalty are a smaller portion of the overall trip time. (NOTE: \"Transfer penalty\" refers to a psychological factor associated with the interruption of a trip.)"
   ]
  },
  {
   "cell_type": "markdown",
   "metadata": {},
   "source": [
    "### Datasets\n",
    "\n",
    "* Passenger volumes by OD (origin-destination) pair and quarter hour, October 2015\n",
    "\n",
    "This dataset includes the following fields:\n",
    "\n",
    "Field Name|Type|Description\n",
    "----------|----|-----------\n",
    "ENTDATESERVICETYPE|Text|Type of service in effect at entry into the system. \"Weekday,\" \"Saturday,\" etc.\n",
    "ENTDATEDAYOFWEEK|Text|Actual day of week entries were recorded.\n",
    "ENTSTATION|Text|Station of entry (beginning of trip).\n",
    "EXTSTATION|Text|Exit station (end of trip).\n",
    "ENTPERIOD|Text|Daypart of entry. \"AM Peak,\" \"Midday,\" etc.\n",
    "ENTQUARTHOUR|Text|Quarter-hour of entry, e.g. \"4:00 PM to 4:15 PM.\"\n",
    "AVG_TRIPS|Integer|Average number of trips for the specified OD pair, day of week, and quarter-hour of entry.\n",
    "\n",
    "One question I have initially about this dataset is what unique values exist for ENTDATESERVICETYPE. I know that \"Weekday,\" \"Saturday,\" and \"Sunday\" exist, but I'd like to know if there is a value for holiday service as well, or any other values.\n",
    "\n",
    "* Rail passenger link volumes by line by hour, May 2015\n",
    "\n",
    "I plan to use this dataset primarily to automatically identify the lines served by each station, and for establishing interstation lengths (for calculating trip length). It includes the following fields:\n",
    "\n",
    "Field Name|Type|Description\n",
    "----------|----|-----------\n",
    "STOP|Integer|An integer code for the first station in the link.\n",
    "LENGTH|Integer|For individual link records, the length of the link in feet.\n",
    "ALIGHT|Integer|Number of passengers alighting at the second station in the link.\n",
    "BOARD|Integer|Number of passengers boarding at the second station in the link.\n",
    "HOURLYLINKVOLUME|Integer|Number of passengers traveling over the link for the entire hour.\n",
    "SCHEDULEDCARSPERHOUR|Integer|Number of traincars scheduled to travel over the link for the entire hour.\n",
    "ESTIMATEDPASSENGERSPERCAR|Float|Estimated average number of passengers in each car over the entire hour.\n",
    "STOPNAME|Text|Name of the first stop in the link, and the direction of travel (EB, WB, NB, or SB).\n",
    "HOUR|Text|Specifies the clock hour for this entry.\n",
    "SERVICEPATTERN|Text|Specifies the line of service (\"Red,\" \"Blue,\" etc.).\n",
    "LINK_CODE|Text|Code of the first station in the link, the number of the track used, and the code of the second station in the link.\n",
    "\n"
   ]
  },
  {
   "cell_type": "markdown",
   "metadata": {},
   "source": [
    "### Domain knowledge\n",
    "\n",
    "I was a train operator on a light rail line in Stockholm, and worked as both a train operator and a signal operator on the subway there.\n",
    "\n",
    "In addition, I've lived in Washington twice, so I'm very familiar with the Metro. This will be of help in understanding the structure of the Metro; for instance, because the data only provide the origin and destination stations, I'll have to define arbitrary transfer points between each pair of lines.\n",
    "\n",
    "The only somewhat similar research I was able to find is *Assessing the cost of transfer inconvenience in public transport\n",
    "systems: A case study of the London Underground*, Guo and Wilson, 2010 (published in *Transportation Research Part A*). This study examined passenger behavior in relation to a defined set of high-volume OD pairs on the London Underground that included transfers, attempting to assess the factors that affected passenger willingness to choose specific routes based on the characteristics of the individual transfer. The introduction to this study explains in some detail that transfer behavior and characteristics have generally been neglected, both as an area of serious study and as an area of attention by transportation agencies.\n",
    "\n"
   ]
  },
  {
   "cell_type": "markdown",
   "metadata": {},
   "source": [
    "### Project concerns\n",
    "\n",
    "I don't have a lot of concerns about the data and my ability to handle it. I'll have to do some preprocessing, as follows:\n",
    "\n",
    "* Assign transfer stations to each OD pair by lines, as follows:\n",
    "\n",
    "    Red-Blue: Metro Center\n",
    "    \n",
    "    Red-Orange: Metro Center\n",
    "    \n",
    "    Red-Silver: Metro Center\n",
    "    \n",
    "    Red-Green: Gallery Pl-Chinatown\n",
    "    \n",
    "    Red-Yellow: Gallery Pl-Chinatown\n",
    "    \n",
    "    Blue-Green: L'Enfant Plaza\n",
    "    \n",
    "    Blue-Yellow: L'Enfant Plaza\n",
    "    \n",
    "    Orange-Green: L'Enfant Plaza\n",
    "    \n",
    "    Orange-Yellow: L'Enfant Plaza\n",
    "    \n",
    "    Silver-Green: L'Enfant Plaza\n",
    "    \n",
    "    Silver-Yellow: L'Enfant Plaza\n",
    "\n",
    "\n",
    "* Calculate trip lengths for each OD pair, using the link lengths in the second dataset listed along with the assigned transfer stations for transfer trips. At the same time, create and assign the transfer Boolean variable.\n",
    "\n",
    "This will be somewhat complicated, but I'm confident that I can do it.\n",
    "\n",
    "Assumptions and caveats:\n",
    "\n",
    "* The implicit assumption above is that every transfer trip involves only one transfer. The structure of the Metro makes this possible. However, I know that one double transfer, from the southbound Green and Yellow lines at Gallery Pl-Chinatown to the Red Line, and thence to the Blue/Orange/Silver at Metro Center; this saves the time involved in continuing on to L'Enfant Plaza for the direct transfer there, and returning to Metro Center via the Blue/Orange/Silver. (Gallery Pl-Chinatown and Metro Center are adjacent on the Red Line.) I'll have to decide whether to model this behavior for specific OD pairs, or simply to assume that every transfer trip involves only one transfer.)\n",
    "\n",
    "I think I have access to the data I need here. I don't currently see anything lacking.\n",
    "\n",
    "Assuming anybody were going to use this research, if it were wrong, it might influence the design of future transit networks in a wrong direction that would lead to suboptimal passenger behavior, which would probably mean that fewer people would choose to use the network.\n",
    "\n",
    "It's possible that some of the data are incorrect, but fairly unlikely, as the fare system in Washington requires tapping in and out, capturing both ends of the trip. One phenomenon I'll need to decide how to handle is trips where the origin and destination are the same. These are very few, and are probably mostly \"give-ups\" -- i.e., someone entered the system, waited for a train, and then decided to leave the system without taking a train after all. I'm inclined to drop these trips from the analysis."
   ]
  },
  {
   "cell_type": "markdown",
   "metadata": {},
   "source": [
    "### Outcomes\n",
    "\n",
    "* I expect the output to show the strength of association between transfer trips (as opposed to non-transfer trips) and a number of factors. The main predictors I intend to look at are trip length and time of day.\n",
    "* I will translate the output into a brief discussion of the factors that are most strongly associated with transfer trips, as well as the possible implications of these findings.\n",
    "* I have no idea, a priori, what the possible strengths of the possible associations might be.\n",
    "* This should be a relatively simple model, although I don't know whether both the continuous and categorical predictors can be included in a single model. Separate models may be required.\n",
    "* I don't know what will define success, other than being able to show statistically significant association(s) between one or more predictors and the outcome.\n",
    "* I would conclude that, at least, no relationship of the kind I'm looking for holds in Washington, and perhaps proceed to analyze other cities where the data are publicly available and adequate in the same way to see if there is such a relationship elsewhere. (Many cities don't have publicly available data; some that do, such as New York, don't capture both entry and exit stations.)"
   ]
  }
 ],
 "metadata": {
  "kernelspec": {
   "display_name": "Python 3",
   "language": "python",
   "name": "python3"
  },
  "language_info": {
   "codemirror_mode": {
    "name": "ipython",
    "version": 3
   },
   "file_extension": ".py",
   "mimetype": "text/x-python",
   "name": "python",
   "nbconvert_exporter": "python",
   "pygments_lexer": "ipython3",
   "version": "3.6.0"
  }
 },
 "nbformat": 4,
 "nbformat_minor": 2
}
