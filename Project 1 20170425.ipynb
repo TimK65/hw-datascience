{
 "cells": [
  {
   "cell_type": "markdown",
   "metadata": {},
   "source": [
    "#### 1. Create a data dictionary\n",
    "\n",
    "Answer:\n",
    "\n",
    "<pre>\n",
    "\n",
    "| Variable | Description                              | Type        |\n",
    "|----------|------------------------------------------|-------------|\n",
    "| admit    | 0 = no, 1 = yes                          | categorical |\n",
    "| gre      | GRE score                                | continuous  |\n",
    "| gpa      | Grade point average                      | continuous  |\n",
    "| rank     | Undergrad prestige (1 = best, 4 = worst) | categorical |\n",
    "\n",
    "</pre>"
   ]
  },
  {
   "cell_type": "markdown",
   "metadata": {},
   "source": [
    "#### What is the outcome?\n",
    "\n",
    "Answer: Admission to a graduate program (yes/no)"
   ]
  },
  {
   "cell_type": "markdown",
   "metadata": {},
   "source": [
    "#### What are the predictors/covariates?\n",
    "\n",
    "Answer: GRE score, GPA, and prestige of undergraduate alma mater."
   ]
  },
  {
   "cell_type": "markdown",
   "metadata": {},
   "source": [
    "#### What timeframe is this data relevant for?\n",
    "\n",
    "Answer: That information has not been provided."
   ]
  },
  {
   "cell_type": "markdown",
   "metadata": {},
   "source": [
    "#### What is the hypothesis?\n",
    "\n",
    "Answer: GRE score is most strongly correlated with admission to a graduate program."
   ]
  },
  {
   "cell_type": "markdown",
   "metadata": {},
   "source": [
    "#### Using the above hypothesis, write a well-formed problem statement.\n",
    "\n",
    "Determine the correlation between each of the potential predictors (GRE score, GPA, and prestige of the undergraduate \n",
    "institution) and whether or not students were admitted to graduate programs."
   ]
  },
  {
   "cell_type": "markdown",
   "metadata": {},
   "source": [
    "### Exploratory analysis plan"
   ]
  },
  {
   "cell_type": "markdown",
   "metadata": {},
   "source": [
    "#### What are the goals of the exploratory data analysis?\n",
    "\n",
    "Answer: To determine the feasibility of the proposed problem based on the characteristics of the data."
   ]
  },
  {
   "cell_type": "markdown",
   "metadata": {},
   "source": [
    "#### What are the assumptions regarding the distribution of the data?\n",
    "\n",
    "Answer: The intended analysis methods assume that the potential predictors are approximately normally distributed."
   ]
  },
  {
   "cell_type": "markdown",
   "metadata": {},
   "source": [
    "#### How will you determine the distribution of your data?\n",
    "\n",
    "Answer: By querying the data using Python to observe its characteristics."
   ]
  },
  {
   "cell_type": "markdown",
   "metadata": {},
   "source": [
    "#### How might outliers impact your analysis?\n",
    "\n",
    "Answer: They could affect the validity of the intended analysis methods, which assume that the distributions are normal rather than skewed. Also, all of the potential predictors have either ranges of valid values (if continuous) or a specific set of valid values (if categorical); invalid values may need to be discarded from the analysis."
   ]
  },
  {
   "cell_type": "markdown",
   "metadata": {},
   "source": [
    "#### How will you test for outliers?\n",
    "\n",
    "Answer: By querying the data using Python to obtain frequency distributions for each variable."
   ]
  },
  {
   "cell_type": "markdown",
   "metadata": {},
   "source": [
    "#### What is your exploratory analysis plan?\n",
    "\n",
    "Use Python to:\n",
    "* Observe the distribution of the potential predictors\n",
    "* Obtain frequency distributions, to look for outliers\n",
    "* Also use the frequency distributions to check for invalid values"
   ]
  },
  {
   "cell_type": "code",
   "execution_count": null,
   "metadata": {
    "collapsed": true
   },
   "outputs": [],
   "source": []
  }
 ],
 "metadata": {
  "kernelspec": {
   "display_name": "Python 3",
   "language": "python",
   "name": "python3"
  },
  "language_info": {
   "codemirror_mode": {
    "name": "ipython",
    "version": 3
   },
   "file_extension": ".py",
   "mimetype": "text/x-python",
   "name": "python",
   "nbconvert_exporter": "python",
   "pygments_lexer": "ipython3",
   "version": "3.6.0"
  }
 },
 "nbformat": 4,
 "nbformat_minor": 2
}
